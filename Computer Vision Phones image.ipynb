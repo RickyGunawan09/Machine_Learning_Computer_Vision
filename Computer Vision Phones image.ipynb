{
  "nbformat": 4,
  "nbformat_minor": 0,
  "metadata": {
    "colab": {
      "name": "Assignment11_RickyGunawan.ipynb",
      "provenance": [],
      "collapsed_sections": [
        "v3zAvBM7V5nE",
        "LdrIak4yXJdf",
        "Mb9Is-zEXstf"
      ]
    },
    "kernelspec": {
      "name": "python3",
      "display_name": "Python 3"
    }
  },
  "cells": [
    {
      "cell_type": "code",
      "metadata": {
        "id": "K8jyx796AXOD",
        "colab_type": "code",
        "colab": {}
      },
      "source": [
        "import cv2 as cv\n",
        "from google.colab.patches import cv2_imshow\n",
        "import matplotlib.pyplot as plt\n",
        "import numpy as np"
      ],
      "execution_count": null,
      "outputs": []
    },
    {
      "cell_type": "code",
      "metadata": {
        "id": "6VXaUMtVAuC5",
        "colab_type": "code",
        "colab": {}
      },
      "source": [
        "image_phones = cv.imread('/content/drive/My Drive/BCML/foto/foto1/phones/phones.png')\n",
        "image_phones_noise1 = cv.imread('/content/drive/My Drive/BCML/foto/foto1/phones/phones-noise-1.png')\n",
        "image_phones_noise2 = cv.imread('/content/drive/My Drive/BCML/foto/foto1/phones/phones-noise-2.png')\n",
        "image_phones_saltpaper1 = cv.imread('/content/drive/My Drive/BCML/foto/foto1/phones/phones-salt-pepper-1.png')\n",
        "image_phones_saltpaper2 = cv.imread('/content/drive/My Drive/BCML/foto/foto1/phones/phones-noise-salt-pepper-2.png')\n",
        "\n",
        "cv2_imshow(image_phones)"
      ],
      "execution_count": null,
      "outputs": []
    },
    {
      "cell_type": "markdown",
      "metadata": {
        "id": "GyKnRQzOD9DL",
        "colab_type": "text"
      },
      "source": [
        "# **No. 1 Tampilkan Histogram**"
      ]
    },
    {
      "cell_type": "code",
      "metadata": {
        "id": "ubeaC7YoBsN5",
        "colab_type": "code",
        "colab": {}
      },
      "source": [
        "image_phones_gray = cv.cvtColor(image_phones,cv.COLOR_BGR2GRAY)\n",
        "image_phones_noise1_gray = cv.cvtColor(image_phones_noise1,cv.COLOR_BGR2GRAY)\n",
        "image_phones_noise2_gray = cv.cvtColor(image_phones_noise2,cv.COLOR_BGR2GRAY)\n",
        "image_phones_saltpaper1_gray = cv.cvtColor(image_phones_saltpaper1,cv.COLOR_BGR2GRAY)\n",
        "image_phones_saltpaper2_gray = cv.cvtColor(image_phones_saltpaper2,cv.COLOR_BGR2GRAY)"
      ],
      "execution_count": null,
      "outputs": []
    },
    {
      "cell_type": "code",
      "metadata": {
        "id": "cktapomsCfUH",
        "colab_type": "code",
        "colab": {}
      },
      "source": [
        "plt.hist(image_phones_gray.flatten(), 256, [0,256])\n",
        "plt.title('phones')"
      ],
      "execution_count": null,
      "outputs": []
    },
    {
      "cell_type": "code",
      "metadata": {
        "id": "oaktQc2DEbft",
        "colab_type": "code",
        "colab": {}
      },
      "source": [
        "equalized = cv.equalizeHist(image_phones_gray)\n",
        "plt.hist(equalized.flatten(), 256, [0,256])\n",
        "plt.title('phones equalized')"
      ],
      "execution_count": null,
      "outputs": []
    },
    {
      "cell_type": "code",
      "metadata": {
        "id": "lzn37pXgDeLi",
        "colab_type": "code",
        "colab": {}
      },
      "source": [
        "plt.hist(image_phones_noise1_gray.flatten(), 256, [0,256])\n",
        "plt.title('phones noise1')"
      ],
      "execution_count": null,
      "outputs": []
    },
    {
      "cell_type": "code",
      "metadata": {
        "id": "2Szh5Nk5EqsB",
        "colab_type": "code",
        "colab": {}
      },
      "source": [
        "equalized = cv.equalizeHist(image_phones_noise1_gray)\n",
        "plt.hist(equalized.flatten(), 256, [0,256])\n",
        "plt.title('phones noise1 equalized')"
      ],
      "execution_count": null,
      "outputs": []
    },
    {
      "cell_type": "code",
      "metadata": {
        "id": "k5UepJ6lDmLD",
        "colab_type": "code",
        "colab": {}
      },
      "source": [
        "plt.hist(image_phones_noise2_gray.flatten(), 256, [0,256])\n",
        "plt.title('phones noise2')"
      ],
      "execution_count": null,
      "outputs": []
    },
    {
      "cell_type": "code",
      "metadata": {
        "id": "BBHe5lUdE20P",
        "colab_type": "code",
        "colab": {}
      },
      "source": [
        "equalized = cv.equalizeHist(image_phones_noise2_gray)\n",
        "plt.hist(equalized.flatten(), 256, [0,256])\n",
        "plt.title('phones noise2 equalized')"
      ],
      "execution_count": null,
      "outputs": []
    },
    {
      "cell_type": "code",
      "metadata": {
        "id": "MQG5JV1kDsFv",
        "colab_type": "code",
        "colab": {}
      },
      "source": [
        "plt.hist(image_phones_saltpaper1_gray.flatten(), 256, [0,256])\n",
        "plt.title('phones saltpaper1')"
      ],
      "execution_count": null,
      "outputs": []
    },
    {
      "cell_type": "code",
      "metadata": {
        "id": "z2OdulclE9_o",
        "colab_type": "code",
        "colab": {}
      },
      "source": [
        "equalized = cv.equalizeHist(image_phones_saltpaper1_gray)\n",
        "plt.hist(equalized.flatten(), 256, [0,256])\n",
        "plt.title('phones saltpaper1 equalized')"
      ],
      "execution_count": null,
      "outputs": []
    },
    {
      "cell_type": "code",
      "metadata": {
        "id": "tqMgLR_3Dr_3",
        "colab_type": "code",
        "colab": {}
      },
      "source": [
        "plt.hist(image_phones_saltpaper2_gray.flatten(), 256, [0,256])\n",
        "plt.title('phones saltpaper2')"
      ],
      "execution_count": null,
      "outputs": []
    },
    {
      "cell_type": "code",
      "metadata": {
        "id": "gYkHycvNFFdy",
        "colab_type": "code",
        "colab": {}
      },
      "source": [
        "equalized = cv.equalizeHist(image_phones_saltpaper2_gray)\n",
        "plt.hist(equalized.flatten(), 256, [0,256])\n",
        "plt.title('phones saltpaper2 equalized')"
      ],
      "execution_count": null,
      "outputs": []
    },
    {
      "cell_type": "markdown",
      "metadata": {
        "colab_type": "text",
        "id": "bdfSneATS-wB"
      },
      "source": [
        "# **No. 2 Filtering Average,Gaussian,dan Median**"
      ]
    },
    {
      "cell_type": "markdown",
      "metadata": {
        "colab_type": "text",
        "id": "ZlV4V6XcS-wB"
      },
      "source": [
        "## **Filtering Average**"
      ]
    },
    {
      "cell_type": "code",
      "metadata": {
        "colab_type": "code",
        "id": "HXmX7TVyS-wC",
        "colab": {}
      },
      "source": [
        "def filtering_average(image,kernel):\n",
        "  blur = cv.blur(image, (kernel, kernel))\n",
        "  return cv2_imshow(blur)"
      ],
      "execution_count": null,
      "outputs": []
    },
    {
      "cell_type": "markdown",
      "metadata": {
        "id": "v3zAvBM7V5nE",
        "colab_type": "text"
      },
      "source": [
        "### **Foto Asli**"
      ]
    },
    {
      "cell_type": "code",
      "metadata": {
        "id": "joRZO5iqV34M",
        "colab_type": "code",
        "colab": {}
      },
      "source": [
        "kernel=[3,5,7,9]\n",
        "image=[image_phones,image_phones_noise1,image_phones_noise2,image_phones_saltpaper1,image_phones_saltpaper2]\n",
        "image_name=['image_phones','image_phones_noise1','image_phones_noise2','image_phones_saltpaper1','image_phones_saltpaper2']\n",
        "for i,v in enumerate(image):\n",
        "  for j in kernel:\n",
        "    print('photo: {} kernel: {} x {}'.format(image_name[i],j,j))\n",
        "    filtering_average(v,j)\n",
        "    print('\\n')"
      ],
      "execution_count": null,
      "outputs": []
    },
    {
      "cell_type": "markdown",
      "metadata": {
        "colab_type": "text",
        "id": "jV6wD1TuWDf7"
      },
      "source": [
        "### **Foto Hitam Putih**"
      ]
    },
    {
      "cell_type": "code",
      "metadata": {
        "colab_type": "code",
        "id": "YlIeoAcNS-wG",
        "colab": {}
      },
      "source": [
        "kernel=[3,5,7,9]\n",
        "image=[image_phones_gray,image_phones_noise1_gray,image_phones_noise2_gray,image_phones_saltpaper1_gray,image_phones_saltpaper2_gray]\n",
        "image_name=['image_phones_gray','image_phones_noise1_gray','image_phones_noise2_gray','image_phones_saltpaper1_gray','image_phones_saltpaper2_gray']\n",
        "for i,v in enumerate(image):\n",
        "  for j in kernel:\n",
        "    print('photo: {} kernel: {} x {}'.format(image_name[i],j,j))\n",
        "    filtering_average(v,j)\n",
        "    print('\\n')"
      ],
      "execution_count": null,
      "outputs": []
    },
    {
      "cell_type": "markdown",
      "metadata": {
        "colab_type": "text",
        "id": "63RyWfxGS-wS"
      },
      "source": [
        "## **Filtering Gaussian**"
      ]
    },
    {
      "cell_type": "code",
      "metadata": {
        "colab_type": "code",
        "id": "WtRB5qjbS-wT",
        "colab": {}
      },
      "source": [
        "def filtering_gaussian(image,kernel):\n",
        "  blur = cv.GaussianBlur(image, (kernel, kernel),0)\n",
        "  return cv2_imshow(blur)"
      ],
      "execution_count": null,
      "outputs": []
    },
    {
      "cell_type": "markdown",
      "metadata": {
        "colab_type": "text",
        "id": "LdrIak4yXJdf"
      },
      "source": [
        "### **Foto Asli**"
      ]
    },
    {
      "cell_type": "code",
      "metadata": {
        "colab_type": "code",
        "id": "I1Hjt3ssXJdg",
        "colab": {}
      },
      "source": [
        "kernel=[3,5,7,9]\n",
        "image=[image_phones,image_phones_noise1,image_phones_noise2,image_phones_saltpaper1,image_phones_saltpaper2]\n",
        "image_name=['image_phones','image_phones_noise1','image_phones_noise2','image_phones_saltpaper1','image_phones_saltpaper2']\n",
        "for i,v in enumerate(image):\n",
        "  for j in kernel:\n",
        "    print('photo: {} kernel: {} x {}'.format(image_name[i],j,j))\n",
        "    filtering_gaussian(v,j)\n",
        "    print('\\n')"
      ],
      "execution_count": null,
      "outputs": []
    },
    {
      "cell_type": "markdown",
      "metadata": {
        "colab_type": "text",
        "id": "WR1O3XrFXJdj"
      },
      "source": [
        "### **Foto Hitam Putih**"
      ]
    },
    {
      "cell_type": "code",
      "metadata": {
        "colab_type": "code",
        "id": "sD2MynrzXJdj",
        "colab": {}
      },
      "source": [
        "kernel=[3,5,7,9]\n",
        "image=[image_phones_gray,image_phones_noise1_gray,image_phones_noise2_gray,image_phones_saltpaper1_gray,image_phones_saltpaper2_gray]\n",
        "image_name=['image_phones_gray','image_phones_noise1_gray','image_phones_noise2_gray','image_phones_saltpaper1_gray','image_phones_saltpaper2_gray']\n",
        "for i,v in enumerate(image):\n",
        "  for j in kernel:\n",
        "    print('photo: {} kernel: {} x {}'.format(image_name[i],j,j))\n",
        "    filtering_gaussian(v,j)\n",
        "    print('\\n')"
      ],
      "execution_count": null,
      "outputs": []
    },
    {
      "cell_type": "markdown",
      "metadata": {
        "colab_type": "text",
        "id": "cJrk1vS0S-wg"
      },
      "source": [
        "## **Filtering Median**"
      ]
    },
    {
      "cell_type": "code",
      "metadata": {
        "colab_type": "code",
        "id": "tD-9nQHJS-wg",
        "colab": {}
      },
      "source": [
        "def filtering_median(image,kernel):\n",
        "  blur = cv.medianBlur(image, kernel)\n",
        "  return cv2_imshow(blur)"
      ],
      "execution_count": null,
      "outputs": []
    },
    {
      "cell_type": "markdown",
      "metadata": {
        "colab_type": "text",
        "id": "Mb9Is-zEXstf"
      },
      "source": [
        "### **Foto Asli**"
      ]
    },
    {
      "cell_type": "code",
      "metadata": {
        "colab_type": "code",
        "id": "CoJqWcgjXstf",
        "colab": {}
      },
      "source": [
        "kernel=[3,5,7,9]\n",
        "image=[image_phones,image_phones_noise1,image_phones_noise2,image_phones_saltpaper1,image_phones_saltpaper2]\n",
        "image_name=['image_phones','image_phones_noise1','image_phones_noise2','image_phones_saltpaper1','image_phones_saltpaper2']\n",
        "for i,v in enumerate(image):\n",
        "  for j in kernel:\n",
        "    print('photo: {} kernel: {} x {}'.format(image_name[i],j,j))\n",
        "    filtering_median(v,j)\n",
        "    print('\\n')"
      ],
      "execution_count": null,
      "outputs": []
    },
    {
      "cell_type": "markdown",
      "metadata": {
        "colab_type": "text",
        "id": "l0hU5N65Xsti"
      },
      "source": [
        "### **Foto Hitam Putih**"
      ]
    },
    {
      "cell_type": "code",
      "metadata": {
        "colab_type": "code",
        "id": "ap_ZqrTIXsti",
        "colab": {}
      },
      "source": [
        "kernel=[3,5,7,9]\n",
        "image=[image_phones_gray,image_phones_noise1_gray,image_phones_noise2_gray,image_phones_saltpaper1_gray,image_phones_saltpaper2_gray]\n",
        "image_name=['image_phones_gray','image_phones_noise1_gray','image_phones_noise2_gray','image_phones_saltpaper1_gray','image_phones_saltpaper2_gray']\n",
        "for i,v in enumerate(image):\n",
        "  for j in kernel:\n",
        "    print('photo: {} kernel: {} x {}'.format(image_name[i],j,j))\n",
        "    filtering_median(v,j)\n",
        "    print('\\n')"
      ],
      "execution_count": null,
      "outputs": []
    },
    {
      "cell_type": "markdown",
      "metadata": {
        "colab_type": "text",
        "id": "XMkslKe5S-wy"
      },
      "source": [
        "## **Kesimpulan**"
      ]
    },
    {
      "cell_type": "markdown",
      "metadata": {
        "colab_type": "text",
        "id": "JcJ9yS3cS-wy"
      },
      "source": [
        "Kesimpulan yang saya dapat setelah mencoba ketiga filtering tersebut dengan kernel yang berbeda-beda ialah untuk filtering yang average dan gaussian perbedaan nya hanya sedikit, sedangkan untuk filtering yang median sangat cocok untuk foto yang memiliki salt and paper.\n",
        "\n",
        "untuk kernel nya filtering average dan gaussian semakin tinggi kernel nya semakin buram pula gambarnya (samar dan tidak halus)\n",
        "\n",
        "tetapi untuk yang filtering median semakin tinggi kernel nya maka semakin tidak jelas tetapi gambar semakin keliatan halus."
      ]
    },
    {
      "cell_type": "markdown",
      "metadata": {
        "id": "aKl0Wx4eLqAf",
        "colab_type": "text"
      },
      "source": [
        "# **No. 3 Thresholding Global, Adaptive,dan Otsu's**"
      ]
    },
    {
      "cell_type": "markdown",
      "metadata": {
        "id": "D9Yq5MfAe5XO",
        "colab_type": "text"
      },
      "source": [
        "## **Global**"
      ]
    },
    {
      "cell_type": "code",
      "metadata": {
        "id": "lnzBH8RJNjra",
        "colab_type": "code",
        "colab": {}
      },
      "source": [
        "image=[image_phones_gray,image_phones_noise1_gray,image_phones_noise2_gray,image_phones_saltpaper1_gray,image_phones_saltpaper2_gray]\n",
        "image_name=['image_phones_gray','image_phones_noise1_gray','image_phones_noise2_gray','image_phones_saltpaper1_gray','image_phones_saltpaper2_gray']\n",
        "method = [cv.THRESH_BINARY,cv.THRESH_BINARY_INV,cv.THRESH_TRUNC,cv.THRESH_TOZERO,cv.THRESH_TOZERO_INV]\n",
        "method_name = ['THRESH_BINARY','THRESH_BINARY_INV','THRESH_TRUNC','THRESH_TOZERO','THRESH_TOZERO_INV']\n",
        "for i,v in enumerate(image):\n",
        "  for j,val in enumerate(method):\n",
        "    print('photo: {} method: {}'.format(image_name[i],method_name[j]))\n",
        "    threshold_value, threshold_result = cv.threshold(v, 127, 255, val)\n",
        "    print(threshold_value)\n",
        "    cv2_imshow(threshold_result)\n",
        "    print('\\n')\n",
        "\n",
        "# threshold_value, threshold_result = cv.threshold(image_phones_gray, 127, 255, cv.THRESH_BINARY) # Binary thresholding\n",
        "# print(threshold_value)\n",
        "# cv2_imshow(threshold_result)"
      ],
      "execution_count": null,
      "outputs": []
    },
    {
      "cell_type": "markdown",
      "metadata": {
        "colab_type": "text",
        "id": "aZiR3rmPfQRK"
      },
      "source": [
        "## **Adaptive**"
      ]
    },
    {
      "cell_type": "code",
      "metadata": {
        "colab_type": "code",
        "id": "9s4WFM7ifQRM",
        "colab": {}
      },
      "source": [
        "image=[image_phones_gray,image_phones_noise1_gray,image_phones_noise2_gray,image_phones_saltpaper1_gray,image_phones_saltpaper2_gray]\n",
        "image_name=['image_phones_gray','image_phones_noise1_gray','image_phones_noise2_gray','image_phones_saltpaper1_gray','image_phones_saltpaper2_gray']\n",
        "method_adap = [cv.ADAPTIVE_THRESH_MEAN_C,cv.ADAPTIVE_THRESH_GAUSSIAN_C]\n",
        "method_name_adap = ['ADAPTIVE_THRESH_MEAN_C','ADAPTIVE_THRESH_GAUSSIAN_C']\n",
        "method_thres = [cv.THRESH_BINARY,cv.THRESH_BINARY_INV]\n",
        "method_name_thres = ['THRESH_BINARY','THRESH_BINARY_INV']\n",
        "for i,v in enumerate(image):\n",
        "  for j,val in enumerate(method_thres):\n",
        "    for k,value in enumerate(method_adap):\n",
        "      print('photo: {} method_adaptive: {} method_threshold= {}'.format(image_name[i],method_name_adap[k],method_name_thres[j]))\n",
        "      threshold_result = cv.adaptiveThreshold(v, 255, value,val,11,2)\n",
        "      cv2_imshow(threshold_result)\n",
        "      print('\\n')\n",
        "\n"
      ],
      "execution_count": null,
      "outputs": []
    },
    {
      "cell_type": "markdown",
      "metadata": {
        "colab_type": "text",
        "id": "h3vWJRowjxMG"
      },
      "source": [
        "## **Otsu's**"
      ]
    },
    {
      "cell_type": "code",
      "metadata": {
        "colab_type": "code",
        "id": "JtRyyxN7jxMH",
        "colab": {}
      },
      "source": [
        "image=[image_phones_gray,image_phones_noise1_gray,image_phones_noise2_gray,image_phones_saltpaper1_gray,image_phones_saltpaper2_gray]\n",
        "image_name=['image_phones_gray','image_phones_noise1_gray','image_phones_noise2_gray','image_phones_saltpaper1_gray','image_phones_saltpaper2_gray']\n",
        "method = [cv.THRESH_BINARY,cv.THRESH_BINARY_INV,cv.THRESH_TRUNC,cv.THRESH_TOZERO,cv.THRESH_TOZERO_INV]\n",
        "method_name = ['THRESH_BINARY','THRESH_BINARY_INV','THRESH_TRUNC','THRESH_TOZERO','THRESH_TOZERO_INV']\n",
        "for i,v in enumerate(image):\n",
        "  for j,val in enumerate(method):\n",
        "    print('photo: {} method: {}'.format(image_name[i],method_name[j]))\n",
        "    threshold_value, threshold_result = cv.threshold(v, 0, 255, val+cv.THRESH_OTSU)\n",
        "    print(threshold_value)\n",
        "    cv2_imshow(threshold_result)\n",
        "    print('\\n')\n",
        "\n",
        "# threshold_value, threshold_result = cv.threshold(image_phones_gray, 127, 255, cv.THRESH_BINARY) # Binary thresholding\n",
        "# print(threshold_value)\n",
        "# cv2_imshow(threshold_result)\n",
        "\n"
      ],
      "execution_count": null,
      "outputs": []
    },
    {
      "cell_type": "markdown",
      "metadata": {
        "id": "rEzrauQKnYyh",
        "colab_type": "text"
      },
      "source": [
        "## **Coba dengan data yang sudah difilter**"
      ]
    },
    {
      "cell_type": "code",
      "metadata": {
        "id": "jT1he056nmSV",
        "colab_type": "code",
        "colab": {}
      },
      "source": [
        "blur_image_phones_gray  =   blur = cv.GaussianBlur(image_phones_gray, (3, 3),0)\n",
        "\n",
        "blur_image_phones_noise1_gray   = cv.medianBlur(image_phones_noise1_gray  , 3)\n",
        "blur_image_phones_noise2_gray  = cv.medianBlur(image_phones_noise2_gray , 3)\n",
        "blur_image_phones_saltpaper1_gray  = cv.medianBlur(image_phones_saltpaper1_gray , 5)\n",
        "blur_image_phones_saltpaper2_gray  = cv.medianBlur(image_phones_saltpaper2_gray , 5)"
      ],
      "execution_count": null,
      "outputs": []
    },
    {
      "cell_type": "markdown",
      "metadata": {
        "colab_type": "text",
        "id": "Je0UGsLvoW_Y"
      },
      "source": [
        "## **Global**"
      ]
    },
    {
      "cell_type": "code",
      "metadata": {
        "colab_type": "code",
        "id": "oEa7Ud3ioW_Z",
        "colab": {}
      },
      "source": [
        "image=[blur_image_phones_gray,blur_image_phones_noise1_gray,blur_image_phones_noise2_gray,blur_image_phones_saltpaper1_gray,blur_image_phones_saltpaper2_gray]\n",
        "image_name=['image_phones_gray','image_phones_noise1_gray','image_phones_noise2_gray','image_phones_saltpaper1_gray','image_phones_saltpaper2_gray']\n",
        "method = [cv.THRESH_BINARY,cv.THRESH_BINARY_INV,cv.THRESH_TRUNC,cv.THRESH_TOZERO,cv.THRESH_TOZERO_INV]\n",
        "method_name = ['THRESH_BINARY','THRESH_BINARY_INV','THRESH_TRUNC','THRESH_TOZERO','THRESH_TOZERO_INV']\n",
        "for i,v in enumerate(image):\n",
        "  for j,val in enumerate(method):\n",
        "    print('photo: {} method: {}'.format(image_name[i],method_name[j]))\n",
        "    threshold_value, threshold_result = cv.threshold(v, 127, 255, val)\n",
        "    print(threshold_value)\n",
        "    cv2_imshow(threshold_result)\n",
        "    print('\\n')\n",
        "\n",
        "# threshold_value, threshold_result = cv.threshold(image_phones_gray, 127, 255, cv.THRESH_BINARY) # Binary thresholding\n",
        "# print(threshold_value)\n",
        "# cv2_imshow(threshold_result)"
      ],
      "execution_count": null,
      "outputs": []
    },
    {
      "cell_type": "markdown",
      "metadata": {
        "colab_type": "text",
        "id": "dQ2rUag5oW_c"
      },
      "source": [
        "## **Adaptive**"
      ]
    },
    {
      "cell_type": "code",
      "metadata": {
        "colab_type": "code",
        "id": "H4Fj1VX_oW_c",
        "colab": {}
      },
      "source": [
        "image=[blur_image_phones_gray,blur_image_phones_noise1_gray,blur_image_phones_noise2_gray,blur_image_phones_saltpaper1_gray,blur_image_phones_saltpaper2_gray]\n",
        "image_name=['image_phones_gray','image_phones_noise1_gray','image_phones_noise2_gray','image_phones_saltpaper1_gray','image_phones_saltpaper2_gray']\n",
        "method_adap = [cv.ADAPTIVE_THRESH_MEAN_C,cv.ADAPTIVE_THRESH_GAUSSIAN_C]\n",
        "method_name_adap = ['ADAPTIVE_THRESH_MEAN_C','ADAPTIVE_THRESH_GAUSSIAN_C']\n",
        "method_thres = [cv.THRESH_BINARY,cv.THRESH_BINARY_INV]\n",
        "method_name_thres = ['THRESH_BINARY','THRESH_BINARY_INV']\n",
        "for i,v in enumerate(image):\n",
        "  for j,val in enumerate(method_thres):\n",
        "    for k,value in enumerate(method_adap):\n",
        "      print('photo: {} method_adaptive: {} method_threshold= {}'.format(image_name[i],method_name_adap[k],method_name_thres[j]))\n",
        "      threshold_result = cv.adaptiveThreshold(v, 255, value,val,11,2)\n",
        "      cv2_imshow(threshold_result)\n",
        "      print('\\n')\n",
        "\n"
      ],
      "execution_count": null,
      "outputs": []
    },
    {
      "cell_type": "markdown",
      "metadata": {
        "colab_type": "text",
        "id": "1i31AN60oW_e"
      },
      "source": [
        "## **Otsu's**"
      ]
    },
    {
      "cell_type": "code",
      "metadata": {
        "colab_type": "code",
        "id": "AC7k-FzMoW_e",
        "colab": {}
      },
      "source": [
        "image=[blur_image_phones_gray,blur_image_phones_noise1_gray,blur_image_phones_noise2_gray,blur_image_phones_saltpaper1_gray,blur_image_phones_saltpaper2_gray]\n",
        "image_name=['image_phones_gray','image_phones_noise1_gray','image_phones_noise2_gray','image_phones_saltpaper1_gray','image_phones_saltpaper2_gray']\n",
        "method = [cv.THRESH_BINARY,cv.THRESH_BINARY_INV,cv.THRESH_TRUNC,cv.THRESH_TOZERO,cv.THRESH_TOZERO_INV]\n",
        "method_name = ['THRESH_BINARY','THRESH_BINARY_INV','THRESH_TRUNC','THRESH_TOZERO','THRESH_TOZERO_INV']\n",
        "for i,v in enumerate(image):\n",
        "  for j,val in enumerate(method):\n",
        "    print('photo: {} method: {}'.format(image_name[i],method_name[j]))\n",
        "    threshold_value, threshold_result = cv.threshold(v, 0, 255, val+cv.THRESH_OTSU)\n",
        "    print(threshold_value)\n",
        "    cv2_imshow(threshold_result)\n",
        "    print('\\n')\n",
        "\n",
        "# threshold_value, threshold_result = cv.threshold(image_phones_gray, 127, 255, cv.THRESH_BINARY) # Binary thresholding\n",
        "# print(threshold_value)\n",
        "# cv2_imshow(threshold_result)\n",
        "\n"
      ],
      "execution_count": null,
      "outputs": []
    },
    {
      "cell_type": "markdown",
      "metadata": {
        "id": "s3dO_AcrzECV",
        "colab_type": "text"
      },
      "source": [
        "## **Kesimpulan**"
      ]
    },
    {
      "cell_type": "markdown",
      "metadata": {
        "id": "1KZCxPpdzJJ8",
        "colab_type": "text"
      },
      "source": [
        "terlihat dari thresholding di atas yang sudah kita lakukan dengan data asli dan data filtering bahwa data memang harus di lakukan filtering untuk menghilangkan noise-noise yang ada pada gambar yang kita amati.\n",
        "\n",
        "untuk yang filtering saya menggunakan gaussian dan median sebagian method utama dan di sesuaikan dengan foto itu sendiri.\n",
        "\n",
        "untuk noise yang masih bisa di maklumi lebih baik menggunakan gaussian sedangkan untuk foto dengan noise salt and paper lebih baik menggunakan median dalam filtering. \n",
        "\n",
        "kemudian untuk thresholding nya sendiri saya lebih prefer menggunakan adaptive dan otsu karena mereka tidak secara langsung menentukan nilai threshold dari foto tersebut"
      ]
    }
  ]
}